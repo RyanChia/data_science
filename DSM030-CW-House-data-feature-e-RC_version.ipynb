{
 "cells": [
  {
   "cell_type": "markdown",
   "metadata": {},
   "source": [
    "# Feature Engineering CW\n",
    "\n",
    "\n",
    "\n",
    "## All steps must be done programmatically"
   ]
  },
  {
   "cell_type": "markdown",
   "metadata": {},
   "source": [
    "### Import required packages"
   ]
  },
  {
   "cell_type": "code",
   "execution_count": 1,
   "metadata": {},
   "outputs": [],
   "source": [
    "# to handle datasets\n",
    "import pandas as pd\n",
    "import numpy as np\n",
    "\n",
    "# to visualise al the columns in the dataframe\n",
    "pd.pandas.set_option('display.max_columns', None)\n",
    "# suppress some warning\n",
    "pd.options.mode.chained_assignment = None  # default='warn'\n",
    "\n",
    "# Add Imports here\n",
    "from scipy import stats\n",
    "from sklearn.model_selection import train_test_split\n",
    "\n",
    "\n",
    "import warnings\n",
    "warnings.filterwarnings(\"ignore\")"
   ]
  },
  {
   "cell_type": "markdown",
   "metadata": {},
   "source": [
    "### Load the data and Plot a Histogram of the SalePrice column"
   ]
  },
  {
   "cell_type": "code",
   "execution_count": 2,
   "metadata": {},
   "outputs": [
    {
     "data": {
      "image/png": "[encoded data removed]",
      "text/plain": [
       "<Figure size 432x288 with 1 Axes>"
      ]
     },
     "metadata": {
      "needs_background": "light"
     },
     "output_type": "display_data"
    }
   ],
   "source": [
    "# load dataset\n",
    "data = pd.read_csv('house-price-data.csv')\n",
    "\n",
    "data.hist(column='SalePrice',  bins = 250);"
   ]
  },
  {
   "cell_type": "markdown",
   "metadata": {},
   "source": [
    "### 1- The SalePrice column is not normally distributed (i.e. not Gaussian), prove this by running a statistical test and obtaining and interpreting the p-value (you can use if else to check the p-value and interpret it). (5 Marks)"
   ]
  },
  {
   "cell_type": "code",
   "execution_count": 3,
   "metadata": {},
   "outputs": [
    {
     "name": "stdout",
     "output_type": "stream",
     "text": [
      "x does not comes from a normal distribution\n"
     ]
    }
   ],
   "source": [
    "# Test to check normality of the SalePrice column\n",
    "# do a normality test\n",
    "x_sales_price = np.array(data['SalePrice'])\n",
    "\n",
    "H0 = \"x comes from a normal distribution\"\n",
    "H1 = \"x does not comes from a normal distribution\"\n",
    "\n",
    "k2, p = stats.normaltest(x_sales_price)\n",
    "\n",
    "if p <=0.05: \n",
    "    print(H1) # null hypothesis: x does not come from a normal distribution\n",
    "else:\n",
    "    print(H0) # null hypothesis: x comes from a normal distribution"
   ]
  },
  {
   "cell_type": "raw",
   "metadata": {},
   "source": [
    "from scipy import stats\n",
    "rng = np.random.default_rng()\n",
    "pts = 1000\n",
    "a = rng.normal(0, 1, size=pts)\n",
    "b = rng.normal(2, 1, size=pts)\n",
    "x = np.concatenate((a, b))\n",
    "k2, p = stats.normaltest(x)\n",
    "alpha = 1e-3\n",
    "print(\"p = {:g}\".format(p))\n",
    "p = 8.4713e-19\n",
    "if p < alpha:  # null hypothesis: x comes from a normal distribution\n",
    "    print(\"The null hypothesis can be rejected\")\n",
    "else:\n",
    "    print(\"The null hypothesis cannot be rejected\")\n",
    "The null hypothesis can be rejected"
   ]
  },
  {
   "cell_type": "markdown",
   "metadata": {},
   "source": [
    "### Split data into Train and Test sub-datasets\n",
    "### Do not change this code"
   ]
  },
  {
   "cell_type": "code",
   "execution_count": 4,
   "metadata": {},
   "outputs": [
    {
     "name": "stdout",
     "output_type": "stream",
     "text": [
      "<class 'pandas.core.frame.DataFrame'>\n",
      "RangeIndex: 1460 entries, 0 to 1459\n",
      "Data columns (total 55 columns):\n",
      " #   Column         Non-Null Count  Dtype  \n",
      "---  ------         --------------  -----  \n",
      " 0   LotFrontage    1201 non-null   float64\n",
      " 1   LotArea        1460 non-null   int64  \n",
      " 2   Alley          91 non-null     object \n",
      " 3   LandContour    1460 non-null   object \n",
      " 4   BldgType       1460 non-null   object \n",
      " 5   HouseStyle     1460 non-null   object \n",
      " 6   OverallQual    1460 non-null   int64  \n",
      " 7   OverallCond    1460 non-null   int64  \n",
      " 8   YearBuilt      1460 non-null   int64  \n",
      " 9   YearRemodAdd   1460 non-null   int64  \n",
      " 10  RoofStyle      1460 non-null   object \n",
      " 11  MasVnrArea     1452 non-null   float64\n",
      " 12  ExterQual      1460 non-null   object \n",
      " 13  ExterCond      1460 non-null   object \n",
      " 14  BsmtQual       1423 non-null   object \n",
      " 15  BsmtCond       1423 non-null   object \n",
      " 16  BsmtExposure   1422 non-null   object \n",
      " 17  BsmtFinType1   1423 non-null   object \n",
      " 18  BsmtFinSF1     1460 non-null   int64  \n",
      " 19  BsmtFinType2   1422 non-null   object \n",
      " 20  BsmtFinSF2     1460 non-null   int64  \n",
      " 21  BsmtUnfSF      1460 non-null   int64  \n",
      " 22  TotalBsmtSF    1460 non-null   int64  \n",
      " 23  HeatingQC      1460 non-null   object \n",
      " 24  1stFlrSF       1460 non-null   int64  \n",
      " 25  2ndFlrSF       1460 non-null   int64  \n",
      " 26  LowQualFinSF   1460 non-null   int64  \n",
      " 27  GrLivArea      1460 non-null   int64  \n",
      " 28  BsmtFullBath   1460 non-null   int64  \n",
      " 29  BsmtHalfBath   1460 non-null   int64  \n",
      " 30  FullBath       1460 non-null   int64  \n",
      " 31  HalfBath       1460 non-null   int64  \n",
      " 32  BedroomAbvGr   1460 non-null   int64  \n",
      " 33  KitchenAbvGr   1460 non-null   int64  \n",
      " 34  KitchenQual    1460 non-null   object \n",
      " 35  TotRmsAbvGrd   1460 non-null   int64  \n",
      " 36  Fireplaces     1460 non-null   int64  \n",
      " 37  FireplaceQu    770 non-null    object \n",
      " 38  GarageYrBlt    1379 non-null   float64\n",
      " 39  GarageFinish   1379 non-null   object \n",
      " 40  GarageCars     1460 non-null   int64  \n",
      " 41  GarageArea     1460 non-null   int64  \n",
      " 42  GarageQual     1379 non-null   object \n",
      " 43  GarageCond     1379 non-null   object \n",
      " 44  WoodDeckSF     1460 non-null   int64  \n",
      " 45  OpenPorchSF    1460 non-null   int64  \n",
      " 46  EnclosedPorch  1460 non-null   int64  \n",
      " 47  3SsnPorch      1460 non-null   int64  \n",
      " 48  ScreenPorch    1460 non-null   int64  \n",
      " 49  PoolArea       1460 non-null   int64  \n",
      " 50  Fence          281 non-null    object \n",
      " 51  MiscVal        1460 non-null   int64  \n",
      " 52  MoSold         1460 non-null   int64  \n",
      " 53  YrSold         1460 non-null   int64  \n",
      " 54  SalePrice      1460 non-null   int64  \n",
      "dtypes: float64(3), int64(33), object(19)\n",
      "memory usage: 627.5+ KB\n"
     ]
    }
   ],
   "source": [
    "data.info()"
   ]
  },
  {
   "cell_type": "code",
   "execution_count": 5,
   "metadata": {},
   "outputs": [
    {
     "data": {
      "text/plain": [
       "((1022, 54), (438, 54))"
      ]
     },
     "execution_count": 5,
     "metadata": {},
     "output_type": "execute_result"
    }
   ],
   "source": [
    "### Split data into train and test sets \n",
    "X = data.drop(columns=['SalePrice'])\n",
    "y = data['SalePrice']\n",
    "\n",
    "X_train, X_test, y_train, y_test = train_test_split(\n",
    "    X, # features or predictive variables\n",
    "    y, # target\n",
    "    test_size=0.3, # portion of dataset to allocate to test set\n",
    "    random_state=10, # we are setting the seed here\n",
    ")\n",
    "\n",
    "X_train.shape, X_test.shape"
   ]
  },
  {
   "cell_type": "markdown",
   "metadata": {},
   "source": [
    "### 2. Create a list of all categorical variables (by checking their type in the original dataset). (2 marks)\n",
    "Correct solution says there are 19 of them."
   ]
  },
  {
   "cell_type": "code",
   "execution_count": 6,
   "metadata": {},
   "outputs": [
    {
     "data": {
      "text/plain": [
       "19"
      ]
     },
     "execution_count": 6,
     "metadata": {},
     "output_type": "execute_result"
    }
   ],
   "source": [
    "# let's identify the categorical variables\n",
    "# we will capture those of type object\n",
    "\n",
    "cat_vars = data.select_dtypes(include = object).columns\n",
    "\n",
    "# number of categorical variables\n",
    "len(cat_vars)"
   ]
  },
  {
   "cell_type": "markdown",
   "metadata": {},
   "source": [
    "### 3. Using the training set (X_train) Create a list of all categorical variables that contain missing data and print percentage of missing values per variable. (3 marks)"
   ]
  },
  {
   "cell_type": "code",
   "execution_count": null,
   "metadata": {},
   "outputs": [],
   "source": [
    " \n"
   ]
  },
  {
   "cell_type": "code",
   "execution_count": 7,
   "metadata": {
    "scrolled": true
   },
   "outputs": [
    {
     "name": "stdout",
     "output_type": "stream",
     "text": [
      "Alley           93.444227\n",
      "Fence           80.528376\n",
      "FireplaceQu     46.868885\n",
      "GarageFinish     5.381605\n",
      "GarageQual       5.381605\n",
      "GarageCond       5.381605\n",
      "BsmtQual         2.544031\n",
      "BsmtCond         2.544031\n",
      "BsmtExposure     2.544031\n",
      "BsmtFinType1     2.544031\n",
      "BsmtFinType2     2.544031\n",
      "dtype: float64\n"
     ]
    }
   ],
   "source": [
    "# make a list of the categorical variables that contain missing values\n",
    "x_train_colls = X_train.select_dtypes(include = object)\n",
    "cat_vars_with_na =  [c for c in x_train_colls if x_train_colls[c].isnull().sum() > 0]\n",
    "\n",
    "\n",
    "# print percentage of missing values per variable\n",
    "\n",
    "x_train_colls_perc = ((x_train_colls[cat_vars_with_na].isnull().sum()/x_train_colls.shape[0])*100).sort_values(ascending=False)\n",
    "print(x_train_colls_perc)"
   ]
  },
  {
   "cell_type": "markdown",
   "metadata": {},
   "source": [
    "### 4. Using the result of the previous step: For categorical variables with more than 10% of data missing, replace missing data with the word 'Missing', in other variables replace the missing data with the most frequent category in  the training set (Apply the replacement to X_train and X_test and make sure it is based on the results you have obtained from the training set). (5 marks)"
   ]
  },
  {
   "cell_type": "code",
   "execution_count": 8,
   "metadata": {},
   "outputs": [],
   "source": [
    "# variables to impute with the string missing\n",
    "with_string_missing = sorted(list(x_train_colls_perc[x_train_colls_perc > 10].index))\n",
    "\n",
    "# variables to impute with the most frequent category\n",
    "\n",
    "with_frequent_category = sorted(list(x_train_colls_perc[x_train_colls_perc < 10].index))"
   ]
  },
  {
   "cell_type": "code",
   "execution_count": 9,
   "metadata": {},
   "outputs": [
    {
     "name": "stdout",
     "output_type": "stream",
     "text": [
      "['Alley', 'Fence', 'FireplaceQu']\n",
      "['BsmtCond', 'BsmtExposure', 'BsmtFinType1', 'BsmtFinType2', 'BsmtQual', 'GarageCond', 'GarageFinish', 'GarageQual']\n"
     ]
    }
   ],
   "source": [
    "print(with_string_missing)\n",
    "print(with_frequent_category)"
   ]
  },
  {
   "cell_type": "code",
   "execution_count": 10,
   "metadata": {},
   "outputs": [
    {
     "name": "stdout",
     "output_type": "stream",
     "text": [
      "['Alley', 'Fence', 'FireplaceQu']\n",
      "['BsmtCond', 'BsmtExposure', 'BsmtFinType1', 'BsmtFinType2', 'BsmtQual', 'GarageCond', 'GarageFinish', 'GarageQual']\n"
     ]
    }
   ],
   "source": [
    "print(with_string_missing)\n",
    "print(with_frequent_category)"
   ]
  },
  {
   "cell_type": "code",
   "execution_count": 11,
   "metadata": {},
   "outputs": [],
   "source": [
    "# replace missing values in X_train and X_test with new label: \"Missing\"\n",
    "\n",
    "for c in with_string_missing: \n",
    "    X_train[c] = X_train[c].fillna('Missing') \n",
    "    X_test[c] = X_test[c].fillna('Missing')"
   ]
  },
  {
   "cell_type": "code",
   "execution_count": 12,
   "metadata": {},
   "outputs": [],
   "source": [
    "# replace missing values in X_train and X_test with the mode of each variable\n",
    "\n",
    "for c in with_frequent_category: \n",
    "    X_train[c] = X_train[c].fillna(X_train[c].mode().values[0]) \n",
    "    X_test[c] = X_test[c].fillna(X_test[c].mode().values[0])"
   ]
  },
  {
   "cell_type": "code",
   "execution_count": 13,
   "metadata": {},
   "outputs": [
    {
     "data": {
      "text/plain": [
       "Alley           0\n",
       "BsmtQual        0\n",
       "BsmtCond        0\n",
       "BsmtExposure    0\n",
       "BsmtFinType1    0\n",
       "BsmtFinType2    0\n",
       "FireplaceQu     0\n",
       "GarageFinish    0\n",
       "GarageQual      0\n",
       "GarageCond      0\n",
       "Fence           0\n",
       "dtype: int64"
      ]
     },
     "execution_count": 13,
     "metadata": {},
     "output_type": "execute_result"
    }
   ],
   "source": [
    "X_train[cat_vars_with_na].isnull().sum()"
   ]
  },
  {
   "cell_type": "code",
   "execution_count": 14,
   "metadata": {},
   "outputs": [
    {
     "data": {
      "text/plain": [
       "Alley           0\n",
       "BsmtQual        0\n",
       "BsmtCond        0\n",
       "BsmtExposure    0\n",
       "BsmtFinType1    0\n",
       "BsmtFinType2    0\n",
       "FireplaceQu     0\n",
       "GarageFinish    0\n",
       "GarageQual      0\n",
       "GarageCond      0\n",
       "Fence           0\n",
       "dtype: int64"
      ]
     },
     "execution_count": 14,
     "metadata": {},
     "output_type": "execute_result"
    }
   ],
   "source": [
    "# check that we have no missing information in the engineered variables\n",
    "X_train[cat_vars_with_na].isnull().sum()"
   ]
  },
  {
   "cell_type": "markdown",
   "metadata": {},
   "source": [
    "### 5. Create a list of all numerical variables (do not include SalePrice). (2 marks)\n",
    "Correct solution says there are 35 of them."
   ]
  },
  {
   "cell_type": "code",
   "execution_count": 15,
   "metadata": {},
   "outputs": [
    {
     "data": {
      "text/plain": [
       "35"
      ]
     },
     "execution_count": 15,
     "metadata": {},
     "output_type": "execute_result"
    }
   ],
   "source": [
    "# now let's identify the numerical variables\n",
    "\n",
    "num_vars = X_train.select_dtypes(exclude = object).columns\n",
    "\n",
    "# number of numerical variables\n",
    "len(num_vars)"
   ]
  },
  {
   "cell_type": "markdown",
   "metadata": {},
   "source": [
    "### 6. Create a list of all numerical variables that contain missing data and print out the percentage of missing values per variable (use the training data). (3 marks)"
   ]
  },
  {
   "cell_type": "code",
   "execution_count": 16,
   "metadata": {},
   "outputs": [
    {
     "name": "stdout",
     "output_type": "stream",
     "text": [
      "LotFrontage    17.318982\n",
      "GarageYrBlt     5.381605\n",
      "MasVnrArea      0.489237\n",
      "dtype: float64\n"
     ]
    }
   ],
   "source": [
    "# make a list with the numerical variables that contain missing values\n",
    "vars_with_na =  [c for c in num_vars if X_train[c].isnull().sum() > 0] \n",
    "\n",
    "# print percentage of missing values per variable\n",
    "\n",
    "num_vars_with_na_perc = ((X_train[vars_with_na].isnull().sum()/X_train.shape[0])*100).sort_values(ascending=False)\n",
    "print(num_vars_with_na_perc)"
   ]
  },
  {
   "cell_type": "code",
   "execution_count": 17,
   "metadata": {},
   "outputs": [],
   "source": [
    "# make a list with the numerical variables that contain missing values\n",
    "\n",
    "# print percentage of missing values per variable\n"
   ]
  },
  {
   "cell_type": "markdown",
   "metadata": {},
   "source": [
    "### 7. Using the result of the previous step: For numerical variables with less than 15% of data missing, replace missing data with the mean of the variable, in other variables replace the missing data with the median of the variable in the training set (Apply the replacement to X_train and X_test and make sure it is based on the results you have obtained from the training set).     (5 marks)"
   ]
  },
  {
   "cell_type": "code",
   "execution_count": 18,
   "metadata": {},
   "outputs": [],
   "source": [
    "# variables to impute with the string missing\n",
    "with_mean = sorted(list(num_vars_with_na_perc[num_vars_with_na_perc < 15].index))\n",
    "\n",
    "# variables to impute with the most frequent category\n",
    "\n",
    "with_median = sorted(list(num_vars_with_na_perc[num_vars_with_na_perc > 15].index))"
   ]
  },
  {
   "cell_type": "code",
   "execution_count": 19,
   "metadata": {},
   "outputs": [
    {
     "data": {
      "text/plain": [
       "(['GarageYrBlt', 'MasVnrArea'], ['LotFrontage'])"
      ]
     },
     "execution_count": 19,
     "metadata": {},
     "output_type": "execute_result"
    }
   ],
   "source": [
    "with_mean, with_median"
   ]
  },
  {
   "cell_type": "code",
   "execution_count": 20,
   "metadata": {},
   "outputs": [],
   "source": [
    "# replace missing values as we described above\n",
    "for c in with_mean: \n",
    "    X_train[c] = X_train[c].fillna(X_train[c].mean()) \n",
    "    X_test[c] = X_test[c].fillna(X_train[c].mean()) \n",
    "    \n",
    "for c in with_median: \n",
    "    X_train[c] = X_train[c].fillna(X_train[c].median()) \n",
    "    X_test[c] = X_test[c].fillna(X_train[c].median()) "
   ]
  },
  {
   "cell_type": "code",
   "execution_count": 21,
   "metadata": {},
   "outputs": [
    {
     "data": {
      "text/plain": [
       "LotFrontage    0\n",
       "MasVnrArea     0\n",
       "GarageYrBlt    0\n",
       "dtype: int64"
      ]
     },
     "execution_count": 21,
     "metadata": {},
     "output_type": "execute_result"
    }
   ],
   "source": [
    "X_test[vars_with_na].isnull().sum()"
   ]
  },
  {
   "cell_type": "code",
   "execution_count": 22,
   "metadata": {},
   "outputs": [],
   "source": [
    "# variables to impute with the median\n",
    "#with_mean = \n",
    "\n",
    "# variables to impute with the mean\n",
    "#with_median = \n"
   ]
  },
  {
   "cell_type": "code",
   "execution_count": 23,
   "metadata": {},
   "outputs": [],
   "source": [
    "# replace missing values as we described above\n",
    "\n",
    "\n",
    "        "
   ]
  },
  {
   "cell_type": "code",
   "execution_count": 24,
   "metadata": {},
   "outputs": [
    {
     "data": {
      "text/plain": [
       "LotFrontage    0\n",
       "MasVnrArea     0\n",
       "GarageYrBlt    0\n",
       "dtype: int64"
      ]
     },
     "execution_count": 24,
     "metadata": {},
     "output_type": "execute_result"
    }
   ],
   "source": [
    "# check that we have no more missing values in the engineered variables\n",
    "X_test[vars_with_na].isnull().sum()"
   ]
  },
  {
   "cell_type": "markdown",
   "metadata": {},
   "source": [
    "### 8. In the train and test sets, replace the values of variables 'YearBuilt', 'YearRemodAdd' and 'GarageYrBlt' with the time elapsed between them and the year in which the house was sold 'YrSold' and then drop the  'YrSold' column (5 marks)"
   ]
  },
  {
   "cell_type": "code",
   "execution_count": 25,
   "metadata": {},
   "outputs": [
    {
     "data": {
      "text/html": [
       "<div>\n",
       "<style scoped>\n",
       "    .dataframe tbody tr th:only-of-type {\n",
       "        vertical-align: middle;\n",
       "    }\n",
       "\n",
       "    .dataframe tbody tr th {\n",
       "        vertical-align: top;\n",
       "    }\n",
       "\n",
       "    .dataframe thead th {\n",
       "        text-align: right;\n",
       "    }\n",
       "</style>\n",
       "<table border=\"1\" class=\"dataframe\">\n",
       "  <thead>\n",
       "    <tr style=\"text-align: right;\">\n",
       "      <th></th>\n",
       "      <th>YearBuilt</th>\n",
       "      <th>YearRemodAdd</th>\n",
       "      <th>GarageYrBlt</th>\n",
       "      <th>YrSold</th>\n",
       "    </tr>\n",
       "  </thead>\n",
       "  <tbody>\n",
       "    <tr>\n",
       "      <th>912</th>\n",
       "      <td>1925</td>\n",
       "      <td>1950</td>\n",
       "      <td>1925.0</td>\n",
       "      <td>2006</td>\n",
       "    </tr>\n",
       "    <tr>\n",
       "      <th>373</th>\n",
       "      <td>1953</td>\n",
       "      <td>1953</td>\n",
       "      <td>1953.0</td>\n",
       "      <td>2009</td>\n",
       "    </tr>\n",
       "    <tr>\n",
       "      <th>20</th>\n",
       "      <td>2005</td>\n",
       "      <td>2006</td>\n",
       "      <td>2005.0</td>\n",
       "      <td>2006</td>\n",
       "    </tr>\n",
       "    <tr>\n",
       "      <th>800</th>\n",
       "      <td>1997</td>\n",
       "      <td>1997</td>\n",
       "      <td>1997.0</td>\n",
       "      <td>2008</td>\n",
       "    </tr>\n",
       "    <tr>\n",
       "      <th>152</th>\n",
       "      <td>1971</td>\n",
       "      <td>1971</td>\n",
       "      <td>1971.0</td>\n",
       "      <td>2006</td>\n",
       "    </tr>\n",
       "  </tbody>\n",
       "</table>\n",
       "</div>"
      ],
      "text/plain": [
       "     YearBuilt  YearRemodAdd  GarageYrBlt  YrSold\n",
       "912       1925          1950       1925.0    2006\n",
       "373       1953          1953       1953.0    2009\n",
       "20        2005          2006       2005.0    2006\n",
       "800       1997          1997       1997.0    2008\n",
       "152       1971          1971       1971.0    2006"
      ]
     },
     "execution_count": 25,
     "metadata": {},
     "output_type": "execute_result"
    }
   ],
   "source": [
    "X_train[['YearBuilt', 'YearRemodAdd','GarageYrBlt', 'YrSold']].head()"
   ]
  },
  {
   "cell_type": "code",
   "execution_count": 26,
   "metadata": {},
   "outputs": [],
   "source": [
    "to_loop = ['YearBuilt', 'YearRemodAdd','GarageYrBlt', 'YrSold']\n",
    "\n",
    "for i in to_loop: \n",
    "    X_train[i] = X_train[i].astype(int)\n",
    "    X_test[i] = X_test[i].astype(int)"
   ]
  },
  {
   "cell_type": "code",
   "execution_count": 27,
   "metadata": {},
   "outputs": [],
   "source": [
    "for i in ['YearBuilt', 'YearRemodAdd','GarageYrBlt']:\n",
    "    X_train[i] = X_train['YrSold'] - X_train[i]\n",
    "    X_test[i] = X_test['YrSold'] - X_test[i]"
   ]
  },
  {
   "cell_type": "code",
   "execution_count": 28,
   "metadata": {},
   "outputs": [],
   "source": [
    "# now we drop YrSold\n",
    "X_train.drop(['YrSold'], axis=1, inplace=True)\n",
    "X_test.drop(['YrSold'], axis=1, inplace=True)"
   ]
  },
  {
   "cell_type": "code",
   "execution_count": 29,
   "metadata": {},
   "outputs": [
    {
     "data": {
      "text/html": [
       "<div>\n",
       "<style scoped>\n",
       "    .dataframe tbody tr th:only-of-type {\n",
       "        vertical-align: middle;\n",
       "    }\n",
       "\n",
       "    .dataframe tbody tr th {\n",
       "        vertical-align: top;\n",
       "    }\n",
       "\n",
       "    .dataframe thead th {\n",
       "        text-align: right;\n",
       "    }\n",
       "</style>\n",
       "<table border=\"1\" class=\"dataframe\">\n",
       "  <thead>\n",
       "    <tr style=\"text-align: right;\">\n",
       "      <th></th>\n",
       "      <th>YearBuilt</th>\n",
       "      <th>YearRemodAdd</th>\n",
       "      <th>GarageYrBlt</th>\n",
       "    </tr>\n",
       "  </thead>\n",
       "  <tbody>\n",
       "    <tr>\n",
       "      <th>912</th>\n",
       "      <td>81</td>\n",
       "      <td>56</td>\n",
       "      <td>81</td>\n",
       "    </tr>\n",
       "    <tr>\n",
       "      <th>373</th>\n",
       "      <td>56</td>\n",
       "      <td>56</td>\n",
       "      <td>56</td>\n",
       "    </tr>\n",
       "    <tr>\n",
       "      <th>20</th>\n",
       "      <td>1</td>\n",
       "      <td>0</td>\n",
       "      <td>1</td>\n",
       "    </tr>\n",
       "    <tr>\n",
       "      <th>800</th>\n",
       "      <td>11</td>\n",
       "      <td>11</td>\n",
       "      <td>11</td>\n",
       "    </tr>\n",
       "    <tr>\n",
       "      <th>152</th>\n",
       "      <td>35</td>\n",
       "      <td>35</td>\n",
       "      <td>35</td>\n",
       "    </tr>\n",
       "  </tbody>\n",
       "</table>\n",
       "</div>"
      ],
      "text/plain": [
       "     YearBuilt  YearRemodAdd  GarageYrBlt\n",
       "912         81            56           81\n",
       "373         56            56           56\n",
       "20           1             0            1\n",
       "800         11            11           11\n",
       "152         35            35           35"
      ]
     },
     "execution_count": 29,
     "metadata": {},
     "output_type": "execute_result"
    }
   ],
   "source": [
    "X_train[['YearBuilt', 'YearRemodAdd','GarageYrBlt']].head()"
   ]
  },
  {
   "cell_type": "code",
   "execution_count": 30,
   "metadata": {},
   "outputs": [
    {
     "data": {
      "text/plain": [
       "array([ 81,  56,   1,  11,  35,   5,  39,  83,  24,  48,  41,  32,  10,\n",
       "        67,   9,   4,  18,  47,  58,  40,  87,  12,  89,  72,   3,  63,\n",
       "        14,   0,  36,  31,  84,  60,  85,  88,  62,  93,  50,   7,  42,\n",
       "         8,  13,  53,  33,  52,  37,   6,   2, 122,  38,  45, 108,  78,\n",
       "       127,  46,  43,  28, 135,  15,  70,  16,  25,  51,  99,  49,  19,\n",
       "        65, 117,  94, 106,  92,  86,  30,  26,  57,  64,  29,  59,  17,\n",
       "        80,  69,  90,  21,  96,  97,  77,  82, 100, 107,  27,  20,  44,\n",
       "        61,  54,  73,  22,  74, 136,  68,  34,  76,  98,  55,  91,  23,\n",
       "        66,  75, 115, 109,  79,  71, 129, 114, 126, 102, 103])"
      ]
     },
     "execution_count": 30,
     "metadata": {},
     "output_type": "execute_result"
    }
   ],
   "source": [
    "X_train['YearBuilt'].unique()"
   ]
  },
  {
   "cell_type": "code",
   "execution_count": 31,
   "metadata": {},
   "outputs": [
    {
     "data": {
      "text/plain": [
       "array([ 51,   0,  52,  40,   2,   9,  36,   3,  89,  32,  95,   4,  39,\n",
       "        29,  10,   6,  97,  50,  11,  74,  71,  84,  31,  83,  42,  59,\n",
       "        65,  49,   8,  96,  88,  86,  33,  26,  14,  47,  70,  17,  37,\n",
       "        45,  22,  25,  77,  35,  53,  38,   1,  82,  15,  48,  69,  18,\n",
       "        43,  12,  30,   7,  61, 104,   5,  78,  16,  54,  85,  20,  81,\n",
       "        34,  57, 111,  73,  62,  23,  46,  55,  99,  75, 110,  66,  91,\n",
       "        87,  24,  19,  13,  58,  44,  93,  41,  68,  28,  94,  92,  76,\n",
       "        90,  67, 128, 125, 119,  80])"
      ]
     },
     "execution_count": 31,
     "metadata": {},
     "output_type": "execute_result"
    }
   ],
   "source": [
    "X_test['YearBuilt'].unique()"
   ]
  },
  {
   "cell_type": "code",
   "execution_count": 32,
   "metadata": {},
   "outputs": [
    {
     "data": {
      "text/plain": [
       "array([56,  0, 11, 35,  1,  4, 39, 24, 48, 32, 10,  8, 18, 47, 40,  5, 12,\n",
       "        9,  2, 17,  3,  6, 36, 59, 14, 58, 19,  7, 33, 42, 13, 26, 38, 45,\n",
       "       16, 50, 23, 46, 43, 28, 41, 15, 53, 60, 25, 51, 27, 44, 30, 57, 29,\n",
       "       20, 31, 21, 52, 37, 22, 49, 34, 54, 55, -1])"
      ]
     },
     "execution_count": 32,
     "metadata": {},
     "output_type": "execute_result"
    }
   ],
   "source": [
    "X_train['YearRemodAdd'].unique() ###there is a -1"
   ]
  },
  {
   "cell_type": "code",
   "execution_count": 33,
   "metadata": {},
   "outputs": [
    {
     "data": {
      "text/plain": [
       "array([32,  0, 52, 40,  1,  8, 36,  3,  9, 60,  4, 39,  2, 29,  5,  7, 11,\n",
       "       13, 24, 19, 31, 56, 10, 26, 59, 14, 57, 17, 37, 33, 45,  6, 25, 35,\n",
       "       53, 38, 58, 15, 48, 42, 18, 30, 50, 47, 16, 54, 20, 43, 44, 23, 12,\n",
       "       46, 55, 49, 21, 28, 34, 51, 41, 22])"
      ]
     },
     "execution_count": 33,
     "metadata": {},
     "output_type": "execute_result"
    }
   ],
   "source": [
    "X_test['YearRemodAdd'].unique() ###there is a -1"
   ]
  },
  {
   "cell_type": "code",
   "execution_count": 34,
   "metadata": {},
   "outputs": [
    {
     "data": {
      "text/html": [
       "<div>\n",
       "<style scoped>\n",
       "    .dataframe tbody tr th:only-of-type {\n",
       "        vertical-align: middle;\n",
       "    }\n",
       "\n",
       "    .dataframe tbody tr th {\n",
       "        vertical-align: top;\n",
       "    }\n",
       "\n",
       "    .dataframe thead th {\n",
       "        text-align: right;\n",
       "    }\n",
       "</style>\n",
       "<table border=\"1\" class=\"dataframe\">\n",
       "  <thead>\n",
       "    <tr style=\"text-align: right;\">\n",
       "      <th></th>\n",
       "      <th>LotFrontage</th>\n",
       "      <th>LotArea</th>\n",
       "      <th>Alley</th>\n",
       "      <th>LandContour</th>\n",
       "      <th>BldgType</th>\n",
       "      <th>HouseStyle</th>\n",
       "      <th>OverallQual</th>\n",
       "      <th>OverallCond</th>\n",
       "      <th>YearBuilt</th>\n",
       "      <th>YearRemodAdd</th>\n",
       "      <th>RoofStyle</th>\n",
       "      <th>MasVnrArea</th>\n",
       "      <th>ExterQual</th>\n",
       "      <th>ExterCond</th>\n",
       "      <th>BsmtQual</th>\n",
       "      <th>BsmtCond</th>\n",
       "      <th>BsmtExposure</th>\n",
       "      <th>BsmtFinType1</th>\n",
       "      <th>BsmtFinSF1</th>\n",
       "      <th>BsmtFinType2</th>\n",
       "      <th>BsmtFinSF2</th>\n",
       "      <th>BsmtUnfSF</th>\n",
       "      <th>TotalBsmtSF</th>\n",
       "      <th>HeatingQC</th>\n",
       "      <th>1stFlrSF</th>\n",
       "      <th>2ndFlrSF</th>\n",
       "      <th>LowQualFinSF</th>\n",
       "      <th>GrLivArea</th>\n",
       "      <th>BsmtFullBath</th>\n",
       "      <th>BsmtHalfBath</th>\n",
       "      <th>FullBath</th>\n",
       "      <th>HalfBath</th>\n",
       "      <th>BedroomAbvGr</th>\n",
       "      <th>KitchenAbvGr</th>\n",
       "      <th>KitchenQual</th>\n",
       "      <th>TotRmsAbvGrd</th>\n",
       "      <th>Fireplaces</th>\n",
       "      <th>FireplaceQu</th>\n",
       "      <th>GarageYrBlt</th>\n",
       "      <th>GarageFinish</th>\n",
       "      <th>GarageCars</th>\n",
       "      <th>GarageArea</th>\n",
       "      <th>GarageQual</th>\n",
       "      <th>GarageCond</th>\n",
       "      <th>WoodDeckSF</th>\n",
       "      <th>OpenPorchSF</th>\n",
       "      <th>EnclosedPorch</th>\n",
       "      <th>3SsnPorch</th>\n",
       "      <th>ScreenPorch</th>\n",
       "      <th>PoolArea</th>\n",
       "      <th>Fence</th>\n",
       "      <th>MiscVal</th>\n",
       "      <th>MoSold</th>\n",
       "    </tr>\n",
       "  </thead>\n",
       "  <tbody>\n",
       "    <tr>\n",
       "      <th>523</th>\n",
       "      <td>130.0</td>\n",
       "      <td>40094</td>\n",
       "      <td>Missing</td>\n",
       "      <td>Bnk</td>\n",
       "      <td>1Fam</td>\n",
       "      <td>2Story</td>\n",
       "      <td>10</td>\n",
       "      <td>5</td>\n",
       "      <td>0</td>\n",
       "      <td>-1</td>\n",
       "      <td>Hip</td>\n",
       "      <td>762.0</td>\n",
       "      <td>Ex</td>\n",
       "      <td>TA</td>\n",
       "      <td>Ex</td>\n",
       "      <td>TA</td>\n",
       "      <td>Gd</td>\n",
       "      <td>GLQ</td>\n",
       "      <td>2260</td>\n",
       "      <td>Unf</td>\n",
       "      <td>0</td>\n",
       "      <td>878</td>\n",
       "      <td>3138</td>\n",
       "      <td>Ex</td>\n",
       "      <td>3138</td>\n",
       "      <td>1538</td>\n",
       "      <td>0</td>\n",
       "      <td>4676</td>\n",
       "      <td>1</td>\n",
       "      <td>0</td>\n",
       "      <td>3</td>\n",
       "      <td>1</td>\n",
       "      <td>3</td>\n",
       "      <td>1</td>\n",
       "      <td>Ex</td>\n",
       "      <td>11</td>\n",
       "      <td>1</td>\n",
       "      <td>Gd</td>\n",
       "      <td>0</td>\n",
       "      <td>Fin</td>\n",
       "      <td>3</td>\n",
       "      <td>884</td>\n",
       "      <td>TA</td>\n",
       "      <td>TA</td>\n",
       "      <td>208</td>\n",
       "      <td>406</td>\n",
       "      <td>0</td>\n",
       "      <td>0</td>\n",
       "      <td>0</td>\n",
       "      <td>0</td>\n",
       "      <td>Missing</td>\n",
       "      <td>0</td>\n",
       "      <td>10</td>\n",
       "    </tr>\n",
       "  </tbody>\n",
       "</table>\n",
       "</div>"
      ],
      "text/plain": [
       "     LotFrontage  LotArea    Alley LandContour BldgType HouseStyle  \\\n",
       "523        130.0    40094  Missing         Bnk     1Fam     2Story   \n",
       "\n",
       "     OverallQual  OverallCond  YearBuilt  YearRemodAdd RoofStyle  MasVnrArea  \\\n",
       "523           10            5          0            -1       Hip       762.0   \n",
       "\n",
       "    ExterQual ExterCond BsmtQual BsmtCond BsmtExposure BsmtFinType1  \\\n",
       "523        Ex        TA       Ex       TA           Gd          GLQ   \n",
       "\n",
       "     BsmtFinSF1 BsmtFinType2  BsmtFinSF2  BsmtUnfSF  TotalBsmtSF HeatingQC  \\\n",
       "523        2260          Unf           0        878         3138        Ex   \n",
       "\n",
       "     1stFlrSF  2ndFlrSF  LowQualFinSF  GrLivArea  BsmtFullBath  BsmtHalfBath  \\\n",
       "523      3138      1538             0       4676             1             0   \n",
       "\n",
       "     FullBath  HalfBath  BedroomAbvGr  KitchenAbvGr KitchenQual  TotRmsAbvGrd  \\\n",
       "523         3         1             3             1          Ex            11   \n",
       "\n",
       "     Fireplaces FireplaceQu  GarageYrBlt GarageFinish  GarageCars  GarageArea  \\\n",
       "523           1          Gd            0          Fin           3         884   \n",
       "\n",
       "    GarageQual GarageCond  WoodDeckSF  OpenPorchSF  EnclosedPorch  3SsnPorch  \\\n",
       "523         TA         TA         208          406              0          0   \n",
       "\n",
       "     ScreenPorch  PoolArea    Fence  MiscVal  MoSold  \n",
       "523            0         0  Missing        0      10  "
      ]
     },
     "execution_count": 34,
     "metadata": {},
     "output_type": "execute_result"
    }
   ],
   "source": [
    "X_train[X_train['YearRemodAdd']==-1]"
   ]
  },
  {
   "cell_type": "code",
   "execution_count": 35,
   "metadata": {},
   "outputs": [
    {
     "data": {
      "text/plain": [
       "array([ 81,  56,   1,  11,  35,   5,  39,  43,  31,   0,  48,  41,  32,\n",
       "        10,  67,   9,   4,  18,  47,  40,  29,  12,  21,  62,  14,  28,\n",
       "         3,  60,  85,  88,  61,  93,   7,  42,   8,  13,  53,  33,  30,\n",
       "        37,   6,   2,  58,  38,  45,  83,  78,  50,  84,  46,  20,  15,\n",
       "        16,  25,  51,  49,  19,  66,  24,  92,  26,  57,  64,  17,  80,\n",
       "        86,  69,  90,  44,  59,  72,  52,  77,  36,  27,  23,  87,  54,\n",
       "        73,  22,  74,  34,  68,  55,  70,  97,  82, 100,  89,  96,  79,\n",
       "       107, 102,  91])"
      ]
     },
     "execution_count": 35,
     "metadata": {},
     "output_type": "execute_result"
    }
   ],
   "source": [
    "X_train['GarageYrBlt'].unique()"
   ]
  },
  {
   "cell_type": "code",
   "execution_count": 36,
   "metadata": {},
   "outputs": [
    {
     "data": {
      "text/plain": [
       "array([51,  0, 52, 40,  2,  9, 28,  3, 82, 32, 95,  4, 39, 29, 10,  6, 57,\n",
       "       50, 11, 69, 84, 31, 83, 42, 90, 59, 37,  8, 76, 30, 17, 36, 33, 26,\n",
       "       79, 14, 47, 68, 22, 25, 27, 53, 18,  1, 35, 15, 48, 43, 67, 12,  7,\n",
       "       61, 45,  5, 78, 16, 46, 86, 20, 88, 34, 49, 99, 44, 75, 23, 55, 56,\n",
       "       89, 81, 66, 65, 58, 38, 70, 54, 24, 71, 19, 72, 41, 13, 94, 92, 74,\n",
       "       62, 77])"
      ]
     },
     "execution_count": 36,
     "metadata": {},
     "output_type": "execute_result"
    }
   ],
   "source": [
    "X_test['GarageYrBlt'].unique()"
   ]
  },
  {
   "cell_type": "markdown",
   "metadata": {},
   "source": [
    "### 9. Apply mappings to categorical variables that have an order (5 marks)\n",
    "\n",
    "Some of the categorical variables have values with an assigned order (in total there should be 14 of them), related to quality (For more information, check the data description file). This means, we can replace categories by numbers to determine quality. For example, values in the 'BsmtExposure' can be mapped as follows: 'No' can be mapped to 1, 'Mn' can be mapped to 2, 'Av' can be mapped to 3 and 'Gd' can be mapped to 4. \n",
    "\n",
    "One way of doing this is to manually create mappings similar to the example given. Each mapping can be saved as a Python dictionary and used to perform the actual mapping to transform the described variables from categorical to numerical.\n",
    "\n",
    "To Make it easier for you, here are groups of variables that have the same mappings (Hint: you can map both categories 'Missing' and 'NA' to 0): \n",
    "\n",
    "- The following variable groups have the same mapping: \n",
    "    - ['ExterQual', 'ExterCond', 'BsmtQual', 'BsmtCond', 'HeatingQC', 'KitchenQual', 'FireplaceQu','GarageQual', 'GarageCond']\n",
    "    - ['BsmtFinType1', 'BsmtFinType2']\n",
    "\n",
    "- Each of the following variables has its own mapping: 'BsmtExposure', 'GarageFinish', 'Fence'"
   ]
  },
  {
   "cell_type": "code",
   "execution_count": 37,
   "metadata": {},
   "outputs": [],
   "source": [
    "# re-map strings to numbers, which determine quality\n",
    "\n",
    "qual_mappings = {'Po': 1, 'Fa': 2, 'TA': 3, 'Gd': 4, 'Ex': 5, 'Missing': 0, 'NA': 0}\n",
    "\n",
    "qual_vars = ['ExterQual', 'ExterCond', 'BsmtQual', 'BsmtCond',\n",
    "             'HeatingQC', 'KitchenQual', 'FireplaceQu',\n",
    "             'GarageQual', 'GarageCond'\n",
    "            ]\n",
    "\n",
    "\n",
    "## Loop through the variables and apply the mapping here\n",
    "# Apply mapping on the train and test sets\n",
    "\n",
    "for q in qual_vars:\n",
    "    X_train[q] = X_train[q].map(qual_mappings)\n",
    "    X_test[q] = X_test[q].map(qual_mappings)"
   ]
  },
  {
   "cell_type": "code",
   "execution_count": 38,
   "metadata": {},
   "outputs": [],
   "source": [
    "exposure_mappings = {'No': 1, 'Mn': 2, 'Av': 3, 'Gd': 4}\n",
    "\n",
    "var = 'BsmtExposure'\n",
    "\n",
    "## Apply the mapping here\n",
    "# Apply mapping on the train and test sets\n",
    "X_train[var] = X_train[var].map(exposure_mappings)\n",
    "X_test[var] = X_test[var].map(exposure_mappings)"
   ]
  },
  {
   "cell_type": "code",
   "execution_count": 39,
   "metadata": {},
   "outputs": [],
   "source": [
    "finish_mappings = {'Missing': 0, 'NA': 0, 'Unf': 1, 'LwQ': 2, 'Rec': 3, 'BLQ': 4, 'ALQ': 5, 'GLQ': 6}\n",
    "\n",
    "finish_vars = ['BsmtFinType1', 'BsmtFinType2']\n",
    "\n",
    "## Loop through the variables and apply the mapping here\n",
    "# Apply mapping on the train and test sets\n",
    "\n",
    "for q in finish_vars :\n",
    "    X_train[q] = X_train[q].map(finish_mappings)\n",
    "    X_test[q] = X_test[q].map(finish_mappings)\n"
   ]
  },
  {
   "cell_type": "code",
   "execution_count": 40,
   "metadata": {},
   "outputs": [],
   "source": [
    "garage_mappings = {'Missing': 0, 'NA': 0, 'Unf': 1, 'RFn': 2, 'Fin': 3}\n",
    "\n",
    "var = 'GarageFinish'\n",
    "\n",
    "## Apply the mapping here\n",
    "# Apply mapping on the train and test sets\n",
    "\n",
    "X_train[var] = X_train[var].map(garage_mappings)\n",
    "X_test[var] = X_test[var].map(garage_mappings)\n"
   ]
  },
  {
   "cell_type": "code",
   "execution_count": 41,
   "metadata": {},
   "outputs": [],
   "source": [
    "fence_mappings = {'Missing': 0, 'NA': 0, 'MnWw': 1, 'GdWo': 2, 'MnPrv': 3, 'GdPrv': 4}\n",
    "\n",
    "var = 'Fence'\n",
    "\n",
    "## Apply the mapping here\n",
    "# Apply mapping on the train and test sets\n",
    "\n",
    "X_train[var] = X_train[var].map(fence_mappings)\n",
    "X_test[var] = X_test[var].map(fence_mappings)"
   ]
  },
  {
   "cell_type": "code",
   "execution_count": 42,
   "metadata": {},
   "outputs": [
    {
     "data": {
      "text/plain": [
       "[]"
      ]
     },
     "execution_count": 42,
     "metadata": {},
     "output_type": "execute_result"
    }
   ],
   "source": [
    "# check absence of na in the train set\n",
    "[var for var in X_train.columns if X_train[var].isnull().sum() > 0]"
   ]
  },
  {
   "cell_type": "code",
   "execution_count": 43,
   "metadata": {},
   "outputs": [
    {
     "data": {
      "text/html": [
       "<div>\n",
       "<style scoped>\n",
       "    .dataframe tbody tr th:only-of-type {\n",
       "        vertical-align: middle;\n",
       "    }\n",
       "\n",
       "    .dataframe tbody tr th {\n",
       "        vertical-align: top;\n",
       "    }\n",
       "\n",
       "    .dataframe thead th {\n",
       "        text-align: right;\n",
       "    }\n",
       "</style>\n",
       "<table border=\"1\" class=\"dataframe\">\n",
       "  <thead>\n",
       "    <tr style=\"text-align: right;\">\n",
       "      <th></th>\n",
       "      <th>LotFrontage</th>\n",
       "      <th>LotArea</th>\n",
       "      <th>Alley</th>\n",
       "      <th>LandContour</th>\n",
       "      <th>BldgType</th>\n",
       "      <th>HouseStyle</th>\n",
       "      <th>OverallQual</th>\n",
       "      <th>OverallCond</th>\n",
       "      <th>YearBuilt</th>\n",
       "      <th>YearRemodAdd</th>\n",
       "      <th>RoofStyle</th>\n",
       "      <th>MasVnrArea</th>\n",
       "      <th>ExterQual</th>\n",
       "      <th>ExterCond</th>\n",
       "      <th>BsmtQual</th>\n",
       "      <th>BsmtCond</th>\n",
       "      <th>BsmtExposure</th>\n",
       "      <th>BsmtFinType1</th>\n",
       "      <th>BsmtFinSF1</th>\n",
       "      <th>BsmtFinType2</th>\n",
       "      <th>BsmtFinSF2</th>\n",
       "      <th>BsmtUnfSF</th>\n",
       "      <th>TotalBsmtSF</th>\n",
       "      <th>HeatingQC</th>\n",
       "      <th>1stFlrSF</th>\n",
       "      <th>2ndFlrSF</th>\n",
       "      <th>LowQualFinSF</th>\n",
       "      <th>GrLivArea</th>\n",
       "      <th>BsmtFullBath</th>\n",
       "      <th>BsmtHalfBath</th>\n",
       "      <th>FullBath</th>\n",
       "      <th>HalfBath</th>\n",
       "      <th>BedroomAbvGr</th>\n",
       "      <th>KitchenAbvGr</th>\n",
       "      <th>KitchenQual</th>\n",
       "      <th>TotRmsAbvGrd</th>\n",
       "      <th>Fireplaces</th>\n",
       "      <th>FireplaceQu</th>\n",
       "      <th>GarageYrBlt</th>\n",
       "      <th>GarageFinish</th>\n",
       "      <th>GarageCars</th>\n",
       "      <th>GarageArea</th>\n",
       "      <th>GarageQual</th>\n",
       "      <th>GarageCond</th>\n",
       "      <th>WoodDeckSF</th>\n",
       "      <th>OpenPorchSF</th>\n",
       "      <th>EnclosedPorch</th>\n",
       "      <th>3SsnPorch</th>\n",
       "      <th>ScreenPorch</th>\n",
       "      <th>PoolArea</th>\n",
       "      <th>Fence</th>\n",
       "      <th>MiscVal</th>\n",
       "      <th>MoSold</th>\n",
       "    </tr>\n",
       "  </thead>\n",
       "  <tbody>\n",
       "    <tr>\n",
       "      <th>912</th>\n",
       "      <td>51.0</td>\n",
       "      <td>6120</td>\n",
       "      <td>Missing</td>\n",
       "      <td>Lvl</td>\n",
       "      <td>1Fam</td>\n",
       "      <td>1Story</td>\n",
       "      <td>5</td>\n",
       "      <td>7</td>\n",
       "      <td>81</td>\n",
       "      <td>56</td>\n",
       "      <td>Gable</td>\n",
       "      <td>0.0</td>\n",
       "      <td>3</td>\n",
       "      <td>3</td>\n",
       "      <td>3</td>\n",
       "      <td>3</td>\n",
       "      <td>1</td>\n",
       "      <td>3</td>\n",
       "      <td>489</td>\n",
       "      <td>1</td>\n",
       "      <td>0</td>\n",
       "      <td>279</td>\n",
       "      <td>768</td>\n",
       "      <td>3</td>\n",
       "      <td>1015</td>\n",
       "      <td>0</td>\n",
       "      <td>0</td>\n",
       "      <td>1015</td>\n",
       "      <td>0</td>\n",
       "      <td>0</td>\n",
       "      <td>1</td>\n",
       "      <td>0</td>\n",
       "      <td>3</td>\n",
       "      <td>1</td>\n",
       "      <td>3</td>\n",
       "      <td>6</td>\n",
       "      <td>0</td>\n",
       "      <td>0</td>\n",
       "      <td>81</td>\n",
       "      <td>1</td>\n",
       "      <td>1</td>\n",
       "      <td>450</td>\n",
       "      <td>3</td>\n",
       "      <td>3</td>\n",
       "      <td>0</td>\n",
       "      <td>0</td>\n",
       "      <td>112</td>\n",
       "      <td>0</td>\n",
       "      <td>120</td>\n",
       "      <td>0</td>\n",
       "      <td>3</td>\n",
       "      <td>620</td>\n",
       "      <td>7</td>\n",
       "    </tr>\n",
       "    <tr>\n",
       "      <th>373</th>\n",
       "      <td>79.0</td>\n",
       "      <td>10634</td>\n",
       "      <td>Missing</td>\n",
       "      <td>Lvl</td>\n",
       "      <td>1Fam</td>\n",
       "      <td>1Story</td>\n",
       "      <td>5</td>\n",
       "      <td>6</td>\n",
       "      <td>56</td>\n",
       "      <td>56</td>\n",
       "      <td>Gable</td>\n",
       "      <td>0.0</td>\n",
       "      <td>3</td>\n",
       "      <td>3</td>\n",
       "      <td>3</td>\n",
       "      <td>3</td>\n",
       "      <td>1</td>\n",
       "      <td>4</td>\n",
       "      <td>428</td>\n",
       "      <td>2</td>\n",
       "      <td>180</td>\n",
       "      <td>0</td>\n",
       "      <td>608</td>\n",
       "      <td>3</td>\n",
       "      <td>1319</td>\n",
       "      <td>0</td>\n",
       "      <td>0</td>\n",
       "      <td>1319</td>\n",
       "      <td>1</td>\n",
       "      <td>0</td>\n",
       "      <td>1</td>\n",
       "      <td>0</td>\n",
       "      <td>3</td>\n",
       "      <td>1</td>\n",
       "      <td>3</td>\n",
       "      <td>5</td>\n",
       "      <td>0</td>\n",
       "      <td>0</td>\n",
       "      <td>56</td>\n",
       "      <td>1</td>\n",
       "      <td>1</td>\n",
       "      <td>270</td>\n",
       "      <td>3</td>\n",
       "      <td>3</td>\n",
       "      <td>66</td>\n",
       "      <td>0</td>\n",
       "      <td>0</td>\n",
       "      <td>0</td>\n",
       "      <td>0</td>\n",
       "      <td>0</td>\n",
       "      <td>2</td>\n",
       "      <td>0</td>\n",
       "      <td>11</td>\n",
       "    </tr>\n",
       "    <tr>\n",
       "      <th>20</th>\n",
       "      <td>101.0</td>\n",
       "      <td>14215</td>\n",
       "      <td>Missing</td>\n",
       "      <td>Lvl</td>\n",
       "      <td>1Fam</td>\n",
       "      <td>2Story</td>\n",
       "      <td>8</td>\n",
       "      <td>5</td>\n",
       "      <td>1</td>\n",
       "      <td>0</td>\n",
       "      <td>Gable</td>\n",
       "      <td>380.0</td>\n",
       "      <td>4</td>\n",
       "      <td>3</td>\n",
       "      <td>5</td>\n",
       "      <td>3</td>\n",
       "      <td>3</td>\n",
       "      <td>1</td>\n",
       "      <td>0</td>\n",
       "      <td>1</td>\n",
       "      <td>0</td>\n",
       "      <td>1158</td>\n",
       "      <td>1158</td>\n",
       "      <td>5</td>\n",
       "      <td>1158</td>\n",
       "      <td>1218</td>\n",
       "      <td>0</td>\n",
       "      <td>2376</td>\n",
       "      <td>0</td>\n",
       "      <td>0</td>\n",
       "      <td>3</td>\n",
       "      <td>1</td>\n",
       "      <td>4</td>\n",
       "      <td>1</td>\n",
       "      <td>4</td>\n",
       "      <td>9</td>\n",
       "      <td>1</td>\n",
       "      <td>4</td>\n",
       "      <td>1</td>\n",
       "      <td>2</td>\n",
       "      <td>3</td>\n",
       "      <td>853</td>\n",
       "      <td>3</td>\n",
       "      <td>3</td>\n",
       "      <td>240</td>\n",
       "      <td>154</td>\n",
       "      <td>0</td>\n",
       "      <td>0</td>\n",
       "      <td>0</td>\n",
       "      <td>0</td>\n",
       "      <td>0</td>\n",
       "      <td>0</td>\n",
       "      <td>11</td>\n",
       "    </tr>\n",
       "    <tr>\n",
       "      <th>800</th>\n",
       "      <td>79.0</td>\n",
       "      <td>12798</td>\n",
       "      <td>Missing</td>\n",
       "      <td>HLS</td>\n",
       "      <td>1Fam</td>\n",
       "      <td>2Story</td>\n",
       "      <td>6</td>\n",
       "      <td>5</td>\n",
       "      <td>11</td>\n",
       "      <td>11</td>\n",
       "      <td>Gable</td>\n",
       "      <td>0.0</td>\n",
       "      <td>3</td>\n",
       "      <td>3</td>\n",
       "      <td>4</td>\n",
       "      <td>3</td>\n",
       "      <td>4</td>\n",
       "      <td>6</td>\n",
       "      <td>462</td>\n",
       "      <td>1</td>\n",
       "      <td>0</td>\n",
       "      <td>154</td>\n",
       "      <td>616</td>\n",
       "      <td>4</td>\n",
       "      <td>616</td>\n",
       "      <td>1072</td>\n",
       "      <td>0</td>\n",
       "      <td>1688</td>\n",
       "      <td>1</td>\n",
       "      <td>0</td>\n",
       "      <td>2</td>\n",
       "      <td>1</td>\n",
       "      <td>4</td>\n",
       "      <td>1</td>\n",
       "      <td>4</td>\n",
       "      <td>8</td>\n",
       "      <td>0</td>\n",
       "      <td>0</td>\n",
       "      <td>11</td>\n",
       "      <td>2</td>\n",
       "      <td>2</td>\n",
       "      <td>603</td>\n",
       "      <td>3</td>\n",
       "      <td>3</td>\n",
       "      <td>403</td>\n",
       "      <td>114</td>\n",
       "      <td>185</td>\n",
       "      <td>0</td>\n",
       "      <td>0</td>\n",
       "      <td>0</td>\n",
       "      <td>0</td>\n",
       "      <td>400</td>\n",
       "      <td>5</td>\n",
       "    </tr>\n",
       "    <tr>\n",
       "      <th>152</th>\n",
       "      <td>70.0</td>\n",
       "      <td>14803</td>\n",
       "      <td>Missing</td>\n",
       "      <td>Lvl</td>\n",
       "      <td>1Fam</td>\n",
       "      <td>2Story</td>\n",
       "      <td>6</td>\n",
       "      <td>5</td>\n",
       "      <td>35</td>\n",
       "      <td>35</td>\n",
       "      <td>Gable</td>\n",
       "      <td>252.0</td>\n",
       "      <td>3</td>\n",
       "      <td>3</td>\n",
       "      <td>3</td>\n",
       "      <td>3</td>\n",
       "      <td>1</td>\n",
       "      <td>3</td>\n",
       "      <td>416</td>\n",
       "      <td>1</td>\n",
       "      <td>0</td>\n",
       "      <td>409</td>\n",
       "      <td>825</td>\n",
       "      <td>4</td>\n",
       "      <td>1097</td>\n",
       "      <td>896</td>\n",
       "      <td>0</td>\n",
       "      <td>1993</td>\n",
       "      <td>0</td>\n",
       "      <td>0</td>\n",
       "      <td>2</td>\n",
       "      <td>1</td>\n",
       "      <td>4</td>\n",
       "      <td>1</td>\n",
       "      <td>3</td>\n",
       "      <td>8</td>\n",
       "      <td>1</td>\n",
       "      <td>4</td>\n",
       "      <td>35</td>\n",
       "      <td>2</td>\n",
       "      <td>2</td>\n",
       "      <td>495</td>\n",
       "      <td>3</td>\n",
       "      <td>3</td>\n",
       "      <td>0</td>\n",
       "      <td>66</td>\n",
       "      <td>0</td>\n",
       "      <td>0</td>\n",
       "      <td>0</td>\n",
       "      <td>0</td>\n",
       "      <td>2</td>\n",
       "      <td>0</td>\n",
       "      <td>6</td>\n",
       "    </tr>\n",
       "  </tbody>\n",
       "</table>\n",
       "</div>"
      ],
      "text/plain": [
       "     LotFrontage  LotArea    Alley LandContour BldgType HouseStyle  \\\n",
       "912         51.0     6120  Missing         Lvl     1Fam     1Story   \n",
       "373         79.0    10634  Missing         Lvl     1Fam     1Story   \n",
       "20         101.0    14215  Missing         Lvl     1Fam     2Story   \n",
       "800         79.0    12798  Missing         HLS     1Fam     2Story   \n",
       "152         70.0    14803  Missing         Lvl     1Fam     2Story   \n",
       "\n",
       "     OverallQual  OverallCond  YearBuilt  YearRemodAdd RoofStyle  MasVnrArea  \\\n",
       "912            5            7         81            56     Gable         0.0   \n",
       "373            5            6         56            56     Gable         0.0   \n",
       "20             8            5          1             0     Gable       380.0   \n",
       "800            6            5         11            11     Gable         0.0   \n",
       "152            6            5         35            35     Gable       252.0   \n",
       "\n",
       "     ExterQual  ExterCond  BsmtQual  BsmtCond  BsmtExposure  BsmtFinType1  \\\n",
       "912          3          3         3         3             1             3   \n",
       "373          3          3         3         3             1             4   \n",
       "20           4          3         5         3             3             1   \n",
       "800          3          3         4         3             4             6   \n",
       "152          3          3         3         3             1             3   \n",
       "\n",
       "     BsmtFinSF1  BsmtFinType2  BsmtFinSF2  BsmtUnfSF  TotalBsmtSF  HeatingQC  \\\n",
       "912         489             1           0        279          768          3   \n",
       "373         428             2         180          0          608          3   \n",
       "20            0             1           0       1158         1158          5   \n",
       "800         462             1           0        154          616          4   \n",
       "152         416             1           0        409          825          4   \n",
       "\n",
       "     1stFlrSF  2ndFlrSF  LowQualFinSF  GrLivArea  BsmtFullBath  BsmtHalfBath  \\\n",
       "912      1015         0             0       1015             0             0   \n",
       "373      1319         0             0       1319             1             0   \n",
       "20       1158      1218             0       2376             0             0   \n",
       "800       616      1072             0       1688             1             0   \n",
       "152      1097       896             0       1993             0             0   \n",
       "\n",
       "     FullBath  HalfBath  BedroomAbvGr  KitchenAbvGr  KitchenQual  \\\n",
       "912         1         0             3             1            3   \n",
       "373         1         0             3             1            3   \n",
       "20          3         1             4             1            4   \n",
       "800         2         1             4             1            4   \n",
       "152         2         1             4             1            3   \n",
       "\n",
       "     TotRmsAbvGrd  Fireplaces  FireplaceQu  GarageYrBlt  GarageFinish  \\\n",
       "912             6           0            0           81             1   \n",
       "373             5           0            0           56             1   \n",
       "20              9           1            4            1             2   \n",
       "800             8           0            0           11             2   \n",
       "152             8           1            4           35             2   \n",
       "\n",
       "     GarageCars  GarageArea  GarageQual  GarageCond  WoodDeckSF  OpenPorchSF  \\\n",
       "912           1         450           3           3           0            0   \n",
       "373           1         270           3           3          66            0   \n",
       "20            3         853           3           3         240          154   \n",
       "800           2         603           3           3         403          114   \n",
       "152           2         495           3           3           0           66   \n",
       "\n",
       "     EnclosedPorch  3SsnPorch  ScreenPorch  PoolArea  Fence  MiscVal  MoSold  \n",
       "912            112          0          120         0      3      620       7  \n",
       "373              0          0            0         0      2        0      11  \n",
       "20               0          0            0         0      0        0      11  \n",
       "800            185          0            0         0      0      400       5  \n",
       "152              0          0            0         0      2        0       6  "
      ]
     },
     "execution_count": 43,
     "metadata": {},
     "output_type": "execute_result"
    }
   ],
   "source": [
    "X_train.head()"
   ]
  },
  {
   "cell_type": "markdown",
   "metadata": {},
   "source": [
    "### 10. Replace Rare Labels with 'Rare' (5 marks)\n",
    "\n",
    "For the remaining five categorical variables (the variables that you did not apply value mappings to, they should be five variables), you will need to group those categories that are present in less than 1% of the observations in the training set. That is, all values of categorical variables that are shared by less than 1% of houses in the training set will be replaced by the string \"Rare\" in both the training and test set. \n",
    "\n",
    "- Find rare labels in the remaining categorical variables and replace them with the category 'Rare'.\n",
    "- Rare labels are those categories that only appear in a small percentage of the observations (in our case in < 1%).\n",
    "- If you look at unique values in a categorical variable in the training set and count how many times each of the unique values appear in the variable, you can compute the percentage of each unique value by dividing its count by the total number of observations.\n",
    "- Remember to make the computions using the training set and replacement in both training and test sets."
   ]
  },
  {
   "cell_type": "code",
   "execution_count": 44,
   "metadata": {},
   "outputs": [
    {
     "data": {
      "text/plain": [
       "['ExterQual',\n",
       " 'ExterCond',\n",
       " 'BsmtQual',\n",
       " 'BsmtCond',\n",
       " 'HeatingQC',\n",
       " 'KitchenQual',\n",
       " 'FireplaceQu',\n",
       " 'GarageQual',\n",
       " 'GarageCond']"
      ]
     },
     "execution_count": 44,
     "metadata": {},
     "output_type": "execute_result"
    }
   ],
   "source": [
    "qual_vars"
   ]
  },
  {
   "cell_type": "code",
   "execution_count": 45,
   "metadata": {},
   "outputs": [
    {
     "data": {
      "text/plain": [
       "5"
      ]
     },
     "execution_count": 45,
     "metadata": {},
     "output_type": "execute_result"
    }
   ],
   "source": [
    "# capture all quality variables\n",
    "\n",
    "qual_vars  = qual_vars + finish_vars + ['BsmtExposure','GarageFinish','Fence']\n",
    "\n",
    "# capture the remaining categorical variables\n",
    "# (those that we did not re-map)\n",
    "\n",
    "cat_others = [\n",
    "    var for var in cat_vars if var not in qual_vars\n",
    "]\n",
    "\n",
    "len(cat_others)"
   ]
  },
  {
   "cell_type": "code",
   "execution_count": 46,
   "metadata": {},
   "outputs": [],
   "source": [
    "## Loop through the variables and apply the replacement here\n",
    "# Apply replacement on the train and test sets\n",
    "\n",
    "def clean_rare(x):\n",
    "    vc = X_train[x].value_counts(normalize=True)\n",
    "    vc_ = list(vc[vc<0.01].index)\n",
    "    for v in vc_:\n",
    "        X_train[x] = X_train[x].str.replace(v,\"Rare\")\n",
    "        X_test[x] = X_test[x].str.replace(v,\"Rare\")\n",
    "        \n",
    "for c in cat_others:\n",
    "    clean_rare(c)"
   ]
  },
  {
   "cell_type": "code",
   "execution_count": 47,
   "metadata": {},
   "outputs": [],
   "source": [
    "#X_train['RoofStyle'].value_counts(normalize=True)"
   ]
  },
  {
   "cell_type": "code",
   "execution_count": 48,
   "metadata": {},
   "outputs": [],
   "source": [
    "#X_train['LandContour'].value_counts(normalize=True)"
   ]
  },
  {
   "cell_type": "code",
   "execution_count": 49,
   "metadata": {},
   "outputs": [],
   "source": [
    "#X_train['BldgType'].value_counts(normalize=True)"
   ]
  },
  {
   "cell_type": "code",
   "execution_count": 50,
   "metadata": {},
   "outputs": [],
   "source": [
    "#X_train['HouseStyle'].value_counts(normalize=True)"
   ]
  },
  {
   "cell_type": "code",
   "execution_count": 51,
   "metadata": {},
   "outputs": [],
   "source": [
    "#vc = X_train['HouseStyle'].value_counts(normalize=True)\n",
    "#list(vc[vc<0.01].index)"
   ]
  },
  {
   "cell_type": "code",
   "execution_count": 52,
   "metadata": {},
   "outputs": [],
   "source": [
    "#X_train['RoofStyle'].value_counts(normalize=True)"
   ]
  },
  {
   "cell_type": "markdown",
   "metadata": {},
   "source": [
    "### 11. One hot encoding of categorical variables (5 marks)\n",
    "Perform one hot encoding to transform the previous five categorical variables into binary variables. Make sure you do it correctly for both the training and testing sets. After this, remember to drop the original five categorical variables (the ones with the strings) from the training and test after the encoding."
   ]
  },
  {
   "cell_type": "code",
   "execution_count": 53,
   "metadata": {},
   "outputs": [
    {
     "data": {
      "text/plain": [
       "['Alley', 'LandContour', 'BldgType', 'HouseStyle', 'RoofStyle']"
      ]
     },
     "execution_count": 53,
     "metadata": {},
     "output_type": "execute_result"
    }
   ],
   "source": [
    "## Loop through the variables and apply the one-hot encoding here\n",
    "# Apply encoding on the train and test sets\n",
    "# Pay attention and make sure you do it correctly\n",
    "\n",
    "cat_others"
   ]
  },
  {
   "cell_type": "code",
   "execution_count": 54,
   "metadata": {},
   "outputs": [],
   "source": [
    "def get_dum (x):\n",
    "    df_1 = pd.get_dummies(X_train[[x]],\n",
    "                          columns=[x],\n",
    "                          prefix=x)\n",
    "    df_2 = pd.get_dummies(X_test[[x]],\n",
    "                          columns=[x],\n",
    "                          prefix=x)\n",
    "    \n",
    "    return(df_1,df_2)"
   ]
  },
  {
   "cell_type": "code",
   "execution_count": 55,
   "metadata": {},
   "outputs": [],
   "source": [
    "for_train_dum = pd.concat([get_dum (c)[0] for c in cat_others],axis=1)\n",
    "for_test_dum = pd.concat([get_dum (c)[1] for c in cat_others],axis=1)\n",
    "\n",
    "X_train = pd.concat([X_train,for_train_dum],axis=1)\n",
    "X_test = pd.concat([X_test,for_test_dum],axis=1)"
   ]
  },
  {
   "cell_type": "code",
   "execution_count": 56,
   "metadata": {},
   "outputs": [],
   "source": [
    "X_train = X_train.drop(cat_others, axis=1)\n",
    "X_test = X_test.drop(cat_others, axis=1)"
   ]
  },
  {
   "cell_type": "code",
   "execution_count": 57,
   "metadata": {},
   "outputs": [
    {
     "data": {
      "text/plain": [
       "[]"
      ]
     },
     "execution_count": 57,
     "metadata": {},
     "output_type": "execute_result"
    }
   ],
   "source": [
    "# check absence of na in the train set\n",
    "[var for var in X_train.columns if X_train[var].isnull().sum() > 0]"
   ]
  },
  {
   "cell_type": "code",
   "execution_count": 58,
   "metadata": {},
   "outputs": [
    {
     "data": {
      "text/plain": [
       "[]"
      ]
     },
     "execution_count": 58,
     "metadata": {},
     "output_type": "execute_result"
    }
   ],
   "source": [
    "# check absence of na in the test set\n",
    "[var for var in X_test.columns if X_test[var].isnull().sum() > 0]"
   ]
  },
  {
   "cell_type": "code",
   "execution_count": 59,
   "metadata": {},
   "outputs": [
    {
     "data": {
      "text/html": [
       "<div>\n",
       "<style scoped>\n",
       "    .dataframe tbody tr th:only-of-type {\n",
       "        vertical-align: middle;\n",
       "    }\n",
       "\n",
       "    .dataframe tbody tr th {\n",
       "        vertical-align: top;\n",
       "    }\n",
       "\n",
       "    .dataframe thead th {\n",
       "        text-align: right;\n",
       "    }\n",
       "</style>\n",
       "<table border=\"1\" class=\"dataframe\">\n",
       "  <thead>\n",
       "    <tr style=\"text-align: right;\">\n",
       "      <th></th>\n",
       "      <th>LotFrontage</th>\n",
       "      <th>LotArea</th>\n",
       "      <th>OverallQual</th>\n",
       "      <th>OverallCond</th>\n",
       "      <th>YearBuilt</th>\n",
       "      <th>YearRemodAdd</th>\n",
       "      <th>MasVnrArea</th>\n",
       "      <th>ExterQual</th>\n",
       "      <th>ExterCond</th>\n",
       "      <th>BsmtQual</th>\n",
       "      <th>BsmtCond</th>\n",
       "      <th>BsmtExposure</th>\n",
       "      <th>BsmtFinType1</th>\n",
       "      <th>BsmtFinSF1</th>\n",
       "      <th>BsmtFinType2</th>\n",
       "      <th>BsmtFinSF2</th>\n",
       "      <th>BsmtUnfSF</th>\n",
       "      <th>TotalBsmtSF</th>\n",
       "      <th>HeatingQC</th>\n",
       "      <th>1stFlrSF</th>\n",
       "      <th>2ndFlrSF</th>\n",
       "      <th>LowQualFinSF</th>\n",
       "      <th>GrLivArea</th>\n",
       "      <th>BsmtFullBath</th>\n",
       "      <th>BsmtHalfBath</th>\n",
       "      <th>FullBath</th>\n",
       "      <th>HalfBath</th>\n",
       "      <th>BedroomAbvGr</th>\n",
       "      <th>KitchenAbvGr</th>\n",
       "      <th>KitchenQual</th>\n",
       "      <th>TotRmsAbvGrd</th>\n",
       "      <th>Fireplaces</th>\n",
       "      <th>FireplaceQu</th>\n",
       "      <th>GarageYrBlt</th>\n",
       "      <th>GarageFinish</th>\n",
       "      <th>GarageCars</th>\n",
       "      <th>GarageArea</th>\n",
       "      <th>GarageQual</th>\n",
       "      <th>GarageCond</th>\n",
       "      <th>WoodDeckSF</th>\n",
       "      <th>OpenPorchSF</th>\n",
       "      <th>EnclosedPorch</th>\n",
       "      <th>3SsnPorch</th>\n",
       "      <th>ScreenPorch</th>\n",
       "      <th>PoolArea</th>\n",
       "      <th>Fence</th>\n",
       "      <th>MiscVal</th>\n",
       "      <th>MoSold</th>\n",
       "      <th>Alley_Grvl</th>\n",
       "      <th>Alley_Missing</th>\n",
       "      <th>Alley_Pave</th>\n",
       "      <th>LandContour_Bnk</th>\n",
       "      <th>LandContour_HLS</th>\n",
       "      <th>LandContour_Low</th>\n",
       "      <th>LandContour_Lvl</th>\n",
       "      <th>BldgType_1Fam</th>\n",
       "      <th>BldgType_2fmCon</th>\n",
       "      <th>BldgType_Duplex</th>\n",
       "      <th>BldgType_Twnhs</th>\n",
       "      <th>BldgType_TwnhsE</th>\n",
       "      <th>HouseStyle_1.5Fin</th>\n",
       "      <th>HouseStyle_1Story</th>\n",
       "      <th>HouseStyle_2Story</th>\n",
       "      <th>HouseStyle_Rare</th>\n",
       "      <th>HouseStyle_SFoyer</th>\n",
       "      <th>HouseStyle_SLvl</th>\n",
       "      <th>RoofStyle_Gable</th>\n",
       "      <th>RoofStyle_Hip</th>\n",
       "      <th>RoofStyle_Rare</th>\n",
       "    </tr>\n",
       "  </thead>\n",
       "  <tbody>\n",
       "    <tr>\n",
       "      <th>912</th>\n",
       "      <td>51.0</td>\n",
       "      <td>6120</td>\n",
       "      <td>5</td>\n",
       "      <td>7</td>\n",
       "      <td>81</td>\n",
       "      <td>56</td>\n",
       "      <td>0.0</td>\n",
       "      <td>3</td>\n",
       "      <td>3</td>\n",
       "      <td>3</td>\n",
       "      <td>3</td>\n",
       "      <td>1</td>\n",
       "      <td>3</td>\n",
       "      <td>489</td>\n",
       "      <td>1</td>\n",
       "      <td>0</td>\n",
       "      <td>279</td>\n",
       "      <td>768</td>\n",
       "      <td>3</td>\n",
       "      <td>1015</td>\n",
       "      <td>0</td>\n",
       "      <td>0</td>\n",
       "      <td>1015</td>\n",
       "      <td>0</td>\n",
       "      <td>0</td>\n",
       "      <td>1</td>\n",
       "      <td>0</td>\n",
       "      <td>3</td>\n",
       "      <td>1</td>\n",
       "      <td>3</td>\n",
       "      <td>6</td>\n",
       "      <td>0</td>\n",
       "      <td>0</td>\n",
       "      <td>81</td>\n",
       "      <td>1</td>\n",
       "      <td>1</td>\n",
       "      <td>450</td>\n",
       "      <td>3</td>\n",
       "      <td>3</td>\n",
       "      <td>0</td>\n",
       "      <td>0</td>\n",
       "      <td>112</td>\n",
       "      <td>0</td>\n",
       "      <td>120</td>\n",
       "      <td>0</td>\n",
       "      <td>3</td>\n",
       "      <td>620</td>\n",
       "      <td>7</td>\n",
       "      <td>0</td>\n",
       "      <td>1</td>\n",
       "      <td>0</td>\n",
       "      <td>0</td>\n",
       "      <td>0</td>\n",
       "      <td>0</td>\n",
       "      <td>1</td>\n",
       "      <td>1</td>\n",
       "      <td>0</td>\n",
       "      <td>0</td>\n",
       "      <td>0</td>\n",
       "      <td>0</td>\n",
       "      <td>0</td>\n",
       "      <td>1</td>\n",
       "      <td>0</td>\n",
       "      <td>0</td>\n",
       "      <td>0</td>\n",
       "      <td>0</td>\n",
       "      <td>1</td>\n",
       "      <td>0</td>\n",
       "      <td>0</td>\n",
       "    </tr>\n",
       "    <tr>\n",
       "      <th>373</th>\n",
       "      <td>79.0</td>\n",
       "      <td>10634</td>\n",
       "      <td>5</td>\n",
       "      <td>6</td>\n",
       "      <td>56</td>\n",
       "      <td>56</td>\n",
       "      <td>0.0</td>\n",
       "      <td>3</td>\n",
       "      <td>3</td>\n",
       "      <td>3</td>\n",
       "      <td>3</td>\n",
       "      <td>1</td>\n",
       "      <td>4</td>\n",
       "      <td>428</td>\n",
       "      <td>2</td>\n",
       "      <td>180</td>\n",
       "      <td>0</td>\n",
       "      <td>608</td>\n",
       "      <td>3</td>\n",
       "      <td>1319</td>\n",
       "      <td>0</td>\n",
       "      <td>0</td>\n",
       "      <td>1319</td>\n",
       "      <td>1</td>\n",
       "      <td>0</td>\n",
       "      <td>1</td>\n",
       "      <td>0</td>\n",
       "      <td>3</td>\n",
       "      <td>1</td>\n",
       "      <td>3</td>\n",
       "      <td>5</td>\n",
       "      <td>0</td>\n",
       "      <td>0</td>\n",
       "      <td>56</td>\n",
       "      <td>1</td>\n",
       "      <td>1</td>\n",
       "      <td>270</td>\n",
       "      <td>3</td>\n",
       "      <td>3</td>\n",
       "      <td>66</td>\n",
       "      <td>0</td>\n",
       "      <td>0</td>\n",
       "      <td>0</td>\n",
       "      <td>0</td>\n",
       "      <td>0</td>\n",
       "      <td>2</td>\n",
       "      <td>0</td>\n",
       "      <td>11</td>\n",
       "      <td>0</td>\n",
       "      <td>1</td>\n",
       "      <td>0</td>\n",
       "      <td>0</td>\n",
       "      <td>0</td>\n",
       "      <td>0</td>\n",
       "      <td>1</td>\n",
       "      <td>1</td>\n",
       "      <td>0</td>\n",
       "      <td>0</td>\n",
       "      <td>0</td>\n",
       "      <td>0</td>\n",
       "      <td>0</td>\n",
       "      <td>1</td>\n",
       "      <td>0</td>\n",
       "      <td>0</td>\n",
       "      <td>0</td>\n",
       "      <td>0</td>\n",
       "      <td>1</td>\n",
       "      <td>0</td>\n",
       "      <td>0</td>\n",
       "    </tr>\n",
       "    <tr>\n",
       "      <th>20</th>\n",
       "      <td>101.0</td>\n",
       "      <td>14215</td>\n",
       "      <td>8</td>\n",
       "      <td>5</td>\n",
       "      <td>1</td>\n",
       "      <td>0</td>\n",
       "      <td>380.0</td>\n",
       "      <td>4</td>\n",
       "      <td>3</td>\n",
       "      <td>5</td>\n",
       "      <td>3</td>\n",
       "      <td>3</td>\n",
       "      <td>1</td>\n",
       "      <td>0</td>\n",
       "      <td>1</td>\n",
       "      <td>0</td>\n",
       "      <td>1158</td>\n",
       "      <td>1158</td>\n",
       "      <td>5</td>\n",
       "      <td>1158</td>\n",
       "      <td>1218</td>\n",
       "      <td>0</td>\n",
       "      <td>2376</td>\n",
       "      <td>0</td>\n",
       "      <td>0</td>\n",
       "      <td>3</td>\n",
       "      <td>1</td>\n",
       "      <td>4</td>\n",
       "      <td>1</td>\n",
       "      <td>4</td>\n",
       "      <td>9</td>\n",
       "      <td>1</td>\n",
       "      <td>4</td>\n",
       "      <td>1</td>\n",
       "      <td>2</td>\n",
       "      <td>3</td>\n",
       "      <td>853</td>\n",
       "      <td>3</td>\n",
       "      <td>3</td>\n",
       "      <td>240</td>\n",
       "      <td>154</td>\n",
       "      <td>0</td>\n",
       "      <td>0</td>\n",
       "      <td>0</td>\n",
       "      <td>0</td>\n",
       "      <td>0</td>\n",
       "      <td>0</td>\n",
       "      <td>11</td>\n",
       "      <td>0</td>\n",
       "      <td>1</td>\n",
       "      <td>0</td>\n",
       "      <td>0</td>\n",
       "      <td>0</td>\n",
       "      <td>0</td>\n",
       "      <td>1</td>\n",
       "      <td>1</td>\n",
       "      <td>0</td>\n",
       "      <td>0</td>\n",
       "      <td>0</td>\n",
       "      <td>0</td>\n",
       "      <td>0</td>\n",
       "      <td>0</td>\n",
       "      <td>1</td>\n",
       "      <td>0</td>\n",
       "      <td>0</td>\n",
       "      <td>0</td>\n",
       "      <td>1</td>\n",
       "      <td>0</td>\n",
       "      <td>0</td>\n",
       "    </tr>\n",
       "    <tr>\n",
       "      <th>800</th>\n",
       "      <td>79.0</td>\n",
       "      <td>12798</td>\n",
       "      <td>6</td>\n",
       "      <td>5</td>\n",
       "      <td>11</td>\n",
       "      <td>11</td>\n",
       "      <td>0.0</td>\n",
       "      <td>3</td>\n",
       "      <td>3</td>\n",
       "      <td>4</td>\n",
       "      <td>3</td>\n",
       "      <td>4</td>\n",
       "      <td>6</td>\n",
       "      <td>462</td>\n",
       "      <td>1</td>\n",
       "      <td>0</td>\n",
       "      <td>154</td>\n",
       "      <td>616</td>\n",
       "      <td>4</td>\n",
       "      <td>616</td>\n",
       "      <td>1072</td>\n",
       "      <td>0</td>\n",
       "      <td>1688</td>\n",
       "      <td>1</td>\n",
       "      <td>0</td>\n",
       "      <td>2</td>\n",
       "      <td>1</td>\n",
       "      <td>4</td>\n",
       "      <td>1</td>\n",
       "      <td>4</td>\n",
       "      <td>8</td>\n",
       "      <td>0</td>\n",
       "      <td>0</td>\n",
       "      <td>11</td>\n",
       "      <td>2</td>\n",
       "      <td>2</td>\n",
       "      <td>603</td>\n",
       "      <td>3</td>\n",
       "      <td>3</td>\n",
       "      <td>403</td>\n",
       "      <td>114</td>\n",
       "      <td>185</td>\n",
       "      <td>0</td>\n",
       "      <td>0</td>\n",
       "      <td>0</td>\n",
       "      <td>0</td>\n",
       "      <td>400</td>\n",
       "      <td>5</td>\n",
       "      <td>0</td>\n",
       "      <td>1</td>\n",
       "      <td>0</td>\n",
       "      <td>0</td>\n",
       "      <td>1</td>\n",
       "      <td>0</td>\n",
       "      <td>0</td>\n",
       "      <td>1</td>\n",
       "      <td>0</td>\n",
       "      <td>0</td>\n",
       "      <td>0</td>\n",
       "      <td>0</td>\n",
       "      <td>0</td>\n",
       "      <td>0</td>\n",
       "      <td>1</td>\n",
       "      <td>0</td>\n",
       "      <td>0</td>\n",
       "      <td>0</td>\n",
       "      <td>1</td>\n",
       "      <td>0</td>\n",
       "      <td>0</td>\n",
       "    </tr>\n",
       "    <tr>\n",
       "      <th>152</th>\n",
       "      <td>70.0</td>\n",
       "      <td>14803</td>\n",
       "      <td>6</td>\n",
       "      <td>5</td>\n",
       "      <td>35</td>\n",
       "      <td>35</td>\n",
       "      <td>252.0</td>\n",
       "      <td>3</td>\n",
       "      <td>3</td>\n",
       "      <td>3</td>\n",
       "      <td>3</td>\n",
       "      <td>1</td>\n",
       "      <td>3</td>\n",
       "      <td>416</td>\n",
       "      <td>1</td>\n",
       "      <td>0</td>\n",
       "      <td>409</td>\n",
       "      <td>825</td>\n",
       "      <td>4</td>\n",
       "      <td>1097</td>\n",
       "      <td>896</td>\n",
       "      <td>0</td>\n",
       "      <td>1993</td>\n",
       "      <td>0</td>\n",
       "      <td>0</td>\n",
       "      <td>2</td>\n",
       "      <td>1</td>\n",
       "      <td>4</td>\n",
       "      <td>1</td>\n",
       "      <td>3</td>\n",
       "      <td>8</td>\n",
       "      <td>1</td>\n",
       "      <td>4</td>\n",
       "      <td>35</td>\n",
       "      <td>2</td>\n",
       "      <td>2</td>\n",
       "      <td>495</td>\n",
       "      <td>3</td>\n",
       "      <td>3</td>\n",
       "      <td>0</td>\n",
       "      <td>66</td>\n",
       "      <td>0</td>\n",
       "      <td>0</td>\n",
       "      <td>0</td>\n",
       "      <td>0</td>\n",
       "      <td>2</td>\n",
       "      <td>0</td>\n",
       "      <td>6</td>\n",
       "      <td>0</td>\n",
       "      <td>1</td>\n",
       "      <td>0</td>\n",
       "      <td>0</td>\n",
       "      <td>0</td>\n",
       "      <td>0</td>\n",
       "      <td>1</td>\n",
       "      <td>1</td>\n",
       "      <td>0</td>\n",
       "      <td>0</td>\n",
       "      <td>0</td>\n",
       "      <td>0</td>\n",
       "      <td>0</td>\n",
       "      <td>0</td>\n",
       "      <td>1</td>\n",
       "      <td>0</td>\n",
       "      <td>0</td>\n",
       "      <td>0</td>\n",
       "      <td>1</td>\n",
       "      <td>0</td>\n",
       "      <td>0</td>\n",
       "    </tr>\n",
       "  </tbody>\n",
       "</table>\n",
       "</div>"
      ],
      "text/plain": [
       "     LotFrontage  LotArea  OverallQual  OverallCond  YearBuilt  YearRemodAdd  \\\n",
       "912         51.0     6120            5            7         81            56   \n",
       "373         79.0    10634            5            6         56            56   \n",
       "20         101.0    14215            8            5          1             0   \n",
       "800         79.0    12798            6            5         11            11   \n",
       "152         70.0    14803            6            5         35            35   \n",
       "\n",
       "     MasVnrArea  ExterQual  ExterCond  BsmtQual  BsmtCond  BsmtExposure  \\\n",
       "912         0.0          3          3         3         3             1   \n",
       "373         0.0          3          3         3         3             1   \n",
       "20        380.0          4          3         5         3             3   \n",
       "800         0.0          3          3         4         3             4   \n",
       "152       252.0          3          3         3         3             1   \n",
       "\n",
       "     BsmtFinType1  BsmtFinSF1  BsmtFinType2  BsmtFinSF2  BsmtUnfSF  \\\n",
       "912             3         489             1           0        279   \n",
       "373             4         428             2         180          0   \n",
       "20              1           0             1           0       1158   \n",
       "800             6         462             1           0        154   \n",
       "152             3         416             1           0        409   \n",
       "\n",
       "     TotalBsmtSF  HeatingQC  1stFlrSF  2ndFlrSF  LowQualFinSF  GrLivArea  \\\n",
       "912          768          3      1015         0             0       1015   \n",
       "373          608          3      1319         0             0       1319   \n",
       "20          1158          5      1158      1218             0       2376   \n",
       "800          616          4       616      1072             0       1688   \n",
       "152          825          4      1097       896             0       1993   \n",
       "\n",
       "     BsmtFullBath  BsmtHalfBath  FullBath  HalfBath  BedroomAbvGr  \\\n",
       "912             0             0         1         0             3   \n",
       "373             1             0         1         0             3   \n",
       "20              0             0         3         1             4   \n",
       "800             1             0         2         1             4   \n",
       "152             0             0         2         1             4   \n",
       "\n",
       "     KitchenAbvGr  KitchenQual  TotRmsAbvGrd  Fireplaces  FireplaceQu  \\\n",
       "912             1            3             6           0            0   \n",
       "373             1            3             5           0            0   \n",
       "20              1            4             9           1            4   \n",
       "800             1            4             8           0            0   \n",
       "152             1            3             8           1            4   \n",
       "\n",
       "     GarageYrBlt  GarageFinish  GarageCars  GarageArea  GarageQual  \\\n",
       "912           81             1           1         450           3   \n",
       "373           56             1           1         270           3   \n",
       "20             1             2           3         853           3   \n",
       "800           11             2           2         603           3   \n",
       "152           35             2           2         495           3   \n",
       "\n",
       "     GarageCond  WoodDeckSF  OpenPorchSF  EnclosedPorch  3SsnPorch  \\\n",
       "912           3           0            0            112          0   \n",
       "373           3          66            0              0          0   \n",
       "20            3         240          154              0          0   \n",
       "800           3         403          114            185          0   \n",
       "152           3           0           66              0          0   \n",
       "\n",
       "     ScreenPorch  PoolArea  Fence  MiscVal  MoSold  Alley_Grvl  Alley_Missing  \\\n",
       "912          120         0      3      620       7           0              1   \n",
       "373            0         0      2        0      11           0              1   \n",
       "20             0         0      0        0      11           0              1   \n",
       "800            0         0      0      400       5           0              1   \n",
       "152            0         0      2        0       6           0              1   \n",
       "\n",
       "     Alley_Pave  LandContour_Bnk  LandContour_HLS  LandContour_Low  \\\n",
       "912           0                0                0                0   \n",
       "373           0                0                0                0   \n",
       "20            0                0                0                0   \n",
       "800           0                0                1                0   \n",
       "152           0                0                0                0   \n",
       "\n",
       "     LandContour_Lvl  BldgType_1Fam  BldgType_2fmCon  BldgType_Duplex  \\\n",
       "912                1              1                0                0   \n",
       "373                1              1                0                0   \n",
       "20                 1              1                0                0   \n",
       "800                0              1                0                0   \n",
       "152                1              1                0                0   \n",
       "\n",
       "     BldgType_Twnhs  BldgType_TwnhsE  HouseStyle_1.5Fin  HouseStyle_1Story  \\\n",
       "912               0                0                  0                  1   \n",
       "373               0                0                  0                  1   \n",
       "20                0                0                  0                  0   \n",
       "800               0                0                  0                  0   \n",
       "152               0                0                  0                  0   \n",
       "\n",
       "     HouseStyle_2Story  HouseStyle_Rare  HouseStyle_SFoyer  HouseStyle_SLvl  \\\n",
       "912                  0                0                  0                0   \n",
       "373                  0                0                  0                0   \n",
       "20                   1                0                  0                0   \n",
       "800                  1                0                  0                0   \n",
       "152                  1                0                  0                0   \n",
       "\n",
       "     RoofStyle_Gable  RoofStyle_Hip  RoofStyle_Rare  \n",
       "912                1              0               0  \n",
       "373                1              0               0  \n",
       "20                 1              0               0  \n",
       "800                1              0               0  \n",
       "152                1              0               0  "
      ]
     },
     "execution_count": 59,
     "metadata": {},
     "output_type": "execute_result"
    }
   ],
   "source": [
    "X_train.head()"
   ]
  },
  {
   "cell_type": "markdown",
   "metadata": {},
   "source": [
    "### 12. Feature Scaling (5 marks)\n",
    "Now we know all variables in our two datasets (i.e. the training and test sets) are numerical, the final step in this exercise is to apply scaling by making sure the minimum value in each variable is 0 and the maximum value is 1. For this step, you can use MinMaxScaler() from sci-kit learn. Make sure you apply it correctly by transforming the test set based on the training set. "
   ]
  },
  {
   "cell_type": "code",
   "execution_count": 60,
   "metadata": {},
   "outputs": [],
   "source": [
    "## Apply scaling here\n",
    "# Make sure you do it correctly\n",
    "from sklearn.preprocessing import MinMaxScaler\n",
    "\n",
    "scaler = MinMaxScaler()\n",
    "X_train_scaled = scaler.fit_transform(X_train)\n",
    "X_test_scaled = scaler.transform(X_test)"
   ]
  },
  {
   "cell_type": "code",
   "execution_count": 61,
   "metadata": {},
   "outputs": [
    {
     "name": "stdout",
     "output_type": "stream",
     "text": [
      "0.25791632849762725\n",
      "0.2551098168789205\n"
     ]
    }
   ],
   "source": [
    "print(X_train_scaled.mean().mean())\n",
    "print(X_test_scaled.mean().mean())"
   ]
  },
  {
   "cell_type": "markdown",
   "metadata": {
    "collapsed": true
   },
   "source": [
    "\n",
    "# Well done!"
   ]
  },
  {
   "cell_type": "raw",
   "metadata": {},
   "source": [
    "https://docs.scipy.org/doc/scipy/reference/generated/scipy.stats.normaltest.html"
   ]
  }
 ],
 "metadata": {
  "kernelspec": {
   "display_name": "Python 3 (ipykernel)",
   "language": "python",
   "name": "python3"
  },
  "language_info": {
   "codemirror_mode": {
    "name": "ipython",
    "version": 3
   },
   "file_extension": ".py",
   "mimetype": "text/x-python",
   "name": "python",
   "nbconvert_exporter": "python",
   "pygments_lexer": "ipython3",
   "version": "3.9.12"
  },
  "toc": {
   "base_numbering": 1,
   "nav_menu": {},
   "number_sections": true,
   "sideBar": true,
   "skip_h1_title": false,
   "title_cell": "Table of Contents",
   "title_sidebar": "Contents",
   "toc_cell": false,
   "toc_position": {
    "height": "583px",
    "left": "0px",
    "right": "1324px",
    "top": "107px",
    "width": "212px"
   },
   "toc_section_display": "block",
   "toc_window_display": true
  }
 },
 "nbformat": 4,
 "nbformat_minor": 2
}
